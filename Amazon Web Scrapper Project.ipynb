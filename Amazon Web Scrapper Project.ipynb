{
 "cells": [
  {
   "cell_type": "code",
   "execution_count": 2,
   "id": "48ae4342",
   "metadata": {},
   "outputs": [],
   "source": [
    "#import librarires\n",
    "\n",
    "from bs4 import BeautifulSoup\n",
    "import requests\n",
    "import smtplib\n",
    "import time\n",
    "import datetime"
   ]
  },
  {
   "cell_type": "code",
   "execution_count": 26,
   "id": "cbcc46fb",
   "metadata": {},
   "outputs": [
    {
     "name": "stdout",
     "output_type": "stream",
     "text": [
      "\n",
      "                   UFO Cats Kitten Cat Lover Outerspace Planets Stars Galaxy Funny Humor Pun Adult Tee Graphic T-Shirt for Men Tshirt\n",
      "                  \n",
      "\n",
      "                    $22.99\n",
      "                   \n"
     ]
    }
   ],
   "source": [
    "#connect to website\n",
    "\n",
    "URL ='https://www.amazon.com/Kitten-Outerspace-Planets-Graphic-T-Shirt/dp/B07LC7ZGTN/ref=pd_di_sccai_2/131-9228306-4645817?pd_rd_w=ydZg9&pf_rd_p=c9443270-b914-4430-a90b-72e3e7e784e0&pf_rd_r=DB5K79DRM45RNZ2AYE2F&pd_rd_r=f5f53a3e-ad59-477c-bfc5-78a6795c75e5&pd_rd_wg=QSBG5&pd_rd_i=B07LC7ZGTN&psc=1'\n",
    "\n",
    "headers = {\"User-Agent\": \"Mozilla/5.0 (Windows NT 10.0; Win64; x64) AppleWebKit/537.36 (KHTML, like Gecko) Chrome/92.0.4515.159 Safari/537.36\", \"Accept-Encoding\":\"gzip, deflate\", \"Accept\":\"text/html,application/xhtml+xml,application/xml;q=0.9,*/*;q=0.8\", \"DNT\":\"1\",\"Connection\":\"close\", \"Upgrade-Insecure-Requests\":\"1\"}\n",
    "\n",
    "page = requests.get(URL, headers=headers)\n",
    "\n",
    "Soup1 = BeautifulSoup(page.content, \"html.parser\")\n",
    "\n",
    "Soup2 = BeautifulSoup(Soup1.prettify(), \"html.parser\")\n",
    "\n",
    "title = Soup2.find(id=\"productTitle\").get_text()\n",
    "\n",
    "price = Soup2.find(id=\"priceblock_ourprice\").get_text()\n",
    "\n",
    "\n",
    "print(title)\n",
    "print(price)\n"
   ]
  },
  {
   "cell_type": "code",
   "execution_count": 27,
   "id": "a4b55ed4",
   "metadata": {},
   "outputs": [
    {
     "name": "stdout",
     "output_type": "stream",
     "text": [
      "UFO Cats Kitten Cat Lover Outerspace Planets Stars Galaxy Funny Humor Pun Adult Tee Graphic T-Shirt for Men Tshirt\n",
      "22.99\n"
     ]
    }
   ],
   "source": [
    "#formating the presentation (removing $ sign)\n",
    "price = price.strip()[1:]\n",
    "title = title.strip()\n",
    "\n",
    "print(title)\n",
    "print(price)"
   ]
  },
  {
   "cell_type": "code",
   "execution_count": null,
   "id": "a0799389",
   "metadata": {},
   "outputs": [],
   "source": [
    "#adding dates for every scrapping so we get historical price movement\n",
    "\n",
    "import datetime\n",
    "\n",
    "today = datetime.date.today()\n",
    "\n",
    "print(today)"
   ]
  },
  {
   "cell_type": "code",
   "execution_count": 40,
   "id": "eefb66c6",
   "metadata": {},
   "outputs": [],
   "source": [
    "#importing selected data into a csv \n",
    "\n",
    "import csv\n",
    "\n",
    "header = ('Title', 'Price', 'Date')\n",
    "data = [title,price,today]\n",
    "\n",
    "with open('AmazonScrapperDataset.csv', 'w',newline='', encoding='utf8') as f:\n",
    "\n",
    "    writer = csv.writer(f)\n",
    "    writer.writerow(header)\n",
    "    writer.writerow(data)"
   ]
  },
  {
   "cell_type": "code",
   "execution_count": 44,
   "id": "aec61c6f",
   "metadata": {},
   "outputs": [
    {
     "name": "stdout",
     "output_type": "stream",
     "text": [
      "                                               Title  Price        Date\n",
      "0  UFO Cats Kitten Cat Lover Outerspace Planets S...  22.99  2021-08-26\n",
      "1  UFO Cats Kitten Cat Lover Outerspace Planets S...  22.99  2021-08-26\n",
      "2  UFO Cats Kitten Cat Lover Outerspace Planets S...  22.99  2021-08-26\n"
     ]
    }
   ],
   "source": [
    "#using pandas to check what is written without opening the actuall csv file\n",
    "\n",
    "import pandas as pd\n",
    "\n",
    "df = pd.read_csv(r'C:\\Users\\dejan\\AmazonScrapperDataset.csv')\n",
    "\n",
    "print(df)"
   ]
  },
  {
   "cell_type": "code",
   "execution_count": 43,
   "id": "3c93d8bd",
   "metadata": {},
   "outputs": [],
   "source": [
    "#we are appending data to existing data\n",
    "\n",
    "with open('AmazonScrapperDataset.csv', 'a+',newline='', encoding='utf8') as f:\n",
    "\n",
    "    writer = csv.writer(f)\n",
    "    writer.writerow(data)"
   ]
  },
  {
   "cell_type": "code",
   "execution_count": 45,
   "id": "5c70f76b",
   "metadata": {},
   "outputs": [],
   "source": [
    "#Combine all of the above code into one function\n",
    "\n",
    "\n",
    "def check_price():\n",
    "    URL ='https://www.amazon.com/Kitten-Outerspace-Planets-Graphic-T-Shirt/dp/B07LC7ZGTN/ref=pd_di_sccai_2/131-9228306-4645817?pd_rd_w=ydZg9&pf_rd_p=c9443270-b914-4430-a90b-72e3e7e784e0&pf_rd_r=DB5K79DRM45RNZ2AYE2F&pd_rd_r=f5f53a3e-ad59-477c-bfc5-78a6795c75e5&pd_rd_wg=QSBG5&pd_rd_i=B07LC7ZGTN&psc=1'\n",
    "\n",
    "    headers = {\"User-Agent\": \"Mozilla/5.0 (Windows NT 10.0; Win64; x64) AppleWebKit/537.36 (KHTML, like Gecko) Chrome/92.0.4515.159 Safari/537.36\", \"Accept-Encoding\":\"gzip, deflate\", \"Accept\":\"text/html,application/xhtml+xml,application/xml;q=0.9,*/*;q=0.8\", \"DNT\":\"1\",\"Connection\":\"close\", \"Upgrade-Insecure-Requests\":\"1\"}\n",
    "\n",
    "    page = requests.get(URL, headers=headers)\n",
    "\n",
    "    Soup1 = BeautifulSoup(page.content, \"html.parser\")\n",
    "\n",
    "    Soup2 = BeautifulSoup(Soup1.prettify(), \"html.parser\")\n",
    "\n",
    "    title = Soup2.find(id=\"productTitle\").get_text()\n",
    "\n",
    "    price = Soup2.find(id=\"priceblock_ourprice\").get_text()\n",
    "    \n",
    "    price = price.strip()[1:]\n",
    "    title = title.strip()\n",
    "    \n",
    "    import datetime\n",
    "\n",
    "    today = datetime.date.today()\n",
    "    \n",
    "    import csv\n",
    "\n",
    "    header = ('Title', 'Price', 'Date')\n",
    "    data = [title,price,today]\n",
    "    \n",
    "    with open('AmazonScrapperDataset.csv', 'a+',newline='', encoding='utf8') as f:\n",
    "\n",
    "        writer = csv.writer(f)\n",
    "        writer.writerow(data)\n",
    "        \n",
    "        \n",
    "    if(price < 19):\n",
    "        send_mail()"
   ]
  },
  {
   "cell_type": "code",
   "execution_count": 46,
   "id": "f7c610f8",
   "metadata": {},
   "outputs": [
    {
     "ename": "KeyboardInterrupt",
     "evalue": "",
     "output_type": "error",
     "traceback": [
      "\u001b[1;31m---------------------------------------------------------------------------\u001b[0m",
      "\u001b[1;31mKeyboardInterrupt\u001b[0m                         Traceback (most recent call last)",
      "\u001b[1;32m<ipython-input-46-9d49b55d09d0>\u001b[0m in \u001b[0;36m<module>\u001b[1;34m\u001b[0m\n\u001b[0;32m      1\u001b[0m \u001b[1;32mwhile\u001b[0m\u001b[1;33m(\u001b[0m\u001b[1;32mTrue\u001b[0m\u001b[1;33m)\u001b[0m\u001b[1;33m:\u001b[0m\u001b[1;33m\u001b[0m\u001b[1;33m\u001b[0m\u001b[0m\n\u001b[0;32m      2\u001b[0m     \u001b[0mcheck_price\u001b[0m\u001b[1;33m(\u001b[0m\u001b[1;33m)\u001b[0m\u001b[1;33m\u001b[0m\u001b[1;33m\u001b[0m\u001b[0m\n\u001b[1;32m----> 3\u001b[1;33m     \u001b[0mtime\u001b[0m\u001b[1;33m.\u001b[0m\u001b[0msleep\u001b[0m\u001b[1;33m(\u001b[0m\u001b[1;36m5\u001b[0m\u001b[1;33m)\u001b[0m\u001b[1;33m\u001b[0m\u001b[1;33m\u001b[0m\u001b[0m\n\u001b[0m",
      "\u001b[1;31mKeyboardInterrupt\u001b[0m: "
     ]
    }
   ],
   "source": [
    "#running price check (above function) in specified second intervals\n",
    "while(True):\n",
    "    check_price()\n",
    "    time.sleep(86400)\n"
   ]
  },
  {
   "cell_type": "code",
   "execution_count": 47,
   "id": "3f35a2e9",
   "metadata": {},
   "outputs": [
    {
     "name": "stdout",
     "output_type": "stream",
     "text": [
      "                                               Title  Price        Date\n",
      "0  UFO Cats Kitten Cat Lover Outerspace Planets S...  22.99  2021-08-26\n",
      "1  UFO Cats Kitten Cat Lover Outerspace Planets S...  22.99  2021-08-26\n",
      "2  UFO Cats Kitten Cat Lover Outerspace Planets S...  22.99  2021-08-26\n",
      "3  UFO Cats Kitten Cat Lover Outerspace Planets S...  22.99  2021-08-26\n",
      "4  UFO Cats Kitten Cat Lover Outerspace Planets S...  22.99  2021-08-26\n",
      "5  UFO Cats Kitten Cat Lover Outerspace Planets S...  22.99  2021-08-26\n",
      "6  UFO Cats Kitten Cat Lover Outerspace Planets S...  22.99  2021-08-26\n",
      "7  UFO Cats Kitten Cat Lover Outerspace Planets S...  22.99  2021-08-26\n"
     ]
    }
   ],
   "source": [
    "import pandas as pd\n",
    "\n",
    "df = pd.read_csv(r'C:\\Users\\dejan\\AmazonScrapperDataset.csv')\n",
    "\n",
    "print(df)"
   ]
  },
  {
   "cell_type": "code",
   "execution_count": null,
   "id": "de773a9f",
   "metadata": {},
   "outputs": [],
   "source": [
    "# If uou want to try sending yourself an email (just for fun) when a price hits below a certain level you can try it\n",
    "# out with this script\n",
    "\n",
    "def send_mail():\n",
    "    server = smtplib.SMTP_SSL('smtp.gmail.com',465)\n",
    "    server.ehlo()\n",
    "    #server.starttls()\n",
    "    server.ehlo()\n",
    "    server.login('dejan84@gmail.com','xxxxxxxxxxxxxx')\n",
    "    \n",
    "    subject = \"The Shirt you want is below $15! Now is your chance to buy!\"\n",
    "    body = \"Dejan, This is the moment we have been waiting for. Now is your chance to pick up the shirt of your dreams. Don't mess it up! Link here: https://www.amazon.com/Funny-Data-Systems-Business-Analyst/dp/B07FNW9FGJ/ref=sr_1_3?dchild=1&keywords=data+analyst+tshirt&qid=1626655184&sr=8-3\"\n",
    "   \n",
    "    msg = f\"Subject: {subject}\\n\\n{body}\"\n",
    "    \n",
    "    server.sendmail(\n",
    "        'dejan84@gmail.com',\n",
    "        msg\n",
    "     \n",
    "    )"
   ]
  },
  {
   "cell_type": "code",
   "execution_count": null,
   "id": "c7a0fdd4",
   "metadata": {},
   "outputs": [],
   "source": []
  }
 ],
 "metadata": {
  "kernelspec": {
   "display_name": "Python 3",
   "language": "python",
   "name": "python3"
  },
  "language_info": {
   "codemirror_mode": {
    "name": "ipython",
    "version": 3
   },
   "file_extension": ".py",
   "mimetype": "text/x-python",
   "name": "python",
   "nbconvert_exporter": "python",
   "pygments_lexer": "ipython3",
   "version": "3.8.8"
  }
 },
 "nbformat": 4,
 "nbformat_minor": 5
}
